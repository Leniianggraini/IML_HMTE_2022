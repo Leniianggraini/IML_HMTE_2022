{
  "nbformat": 4,
  "nbformat_minor": 0,
  "metadata": {
    "colab": {
      "provenance": [],
      "collapsed_sections": [
        "eVKdUUJb8NH-",
        "C0eV0V0jEAxw"
      ]
    },
    "kernelspec": {
      "name": "python3",
      "display_name": "Python 3"
    }
  },
  "cells": [
    {
      "cell_type": "markdown",
      "metadata": {
        "id": "0QnxJ7JgdpxI"
      },
      "source": [
        "# Introduction to Machine Learning\n",
        "\n",
        "---\n",
        "\n",
        "\n",
        "\n",
        "\n",
        "## Session 1: Introduction to Python\n",
        "\n",
        "##### By: Leni Anggraini, S.T"
      ]
    },
    {
      "cell_type": "markdown",
      "metadata": {
        "id": "EwpTw53BeHgy"
      },
      "source": [
        "##**Welcome!**\n",
        "\n",
        "Modul 1: **Basic Python Programming**\n",
        "\n",
        "If you have any question regarding this module, kindly contact me through:\n",
        "\n",
        "https://www.linkedin.com/in/lenianggrain/\n",
        "\n",
        "https://github.com/Leniianggraini"
      ]
    },
    {
      "cell_type": "markdown",
      "metadata": {
        "id": "kTL3VpWSfoSX"
      },
      "source": [
        "## **READ ME**\n",
        "This following module was created by **Leni Anggraini** for **Introduction to Machine Learning Workshop by HMTE UP 2022**. Only the people who registered for the workshop are permitted to use this notebook (**personal use**). Please do not copy or share this notebook with anyone else without authorization.\n",
        "\n",
        "Thank you!"
      ]
    },
    {
      "cell_type": "markdown",
      "metadata": {
        "id": "laQ7cYa4hnIv"
      },
      "source": [
        "## **Introduction**"
      ]
    },
    {
      "cell_type": "markdown",
      "metadata": {
        "id": "b-Qnn0NehxTV"
      },
      "source": [
        "Python is a programming language created in 1991 by **Guido van Russom**, a mathematician.\n",
        "\n",
        "Python is starting to gain popularity. Python has been able to climb significantly and even exceed Java in a number of polls relating to programming languages that are often searched for on Google. Python managed to move up in the TOP 10 most sought programming languages from a StackOverflow survey of insight developers in 2018, surpassing its elders C, PHP, and C#."
      ]
    },
    {
      "cell_type": "markdown",
      "metadata": {
        "id": "Hy-zJVGikqbE"
      },
      "source": [
        "## Outline\n",
        "\n",
        "- Python Language Structures\n",
        "  - Statements\n",
        "  - Variables\n",
        "  - Literals\n",
        "  - Operators\n",
        "  - Reserved Words\n",
        "  - White Spaces\n",
        "  - Comments\n",
        "\n",
        "- Python Data Types\n",
        "  - Null Type\n",
        "  - Boolean Type\n",
        "  - Numeric Type\n",
        "  - Text Type\n",
        "  - Sequence Type\n",
        "  - Set Type\n",
        "  - Mapping Type\n",
        "\n",
        "- Python Operators\n",
        "  - Arithmetic Operators\n",
        "  - Assignment Operators\n",
        "  - Comparison Operators\n",
        "  - Logical Operators\n",
        "  - Identity Operators\n",
        "  - Membership Operators\n",
        "\n",
        "- Python Conditional Statements\n",
        "  - IF\n",
        "  - ELSE\n",
        "  - ELSE IF (ELIF)\n",
        "  - Nested IF\n",
        "\n",
        "- Python Looping and Function\n",
        "  - FOR\n",
        "  - WHILE\n",
        "  - Function\n",
        "    - Local Scope\n",
        "    - Function in Function\n",
        "    - Global Scope\n",
        "\n",
        "- Python Class, Object and Modules\n",
        "  - Class and Objects\n",
        "  - Modules\n"
      ]
    },
    {
      "cell_type": "markdown",
      "metadata": {
        "id": "6q2lcLbLpGxz"
      },
      "source": [
        "# A. Python Language Structures"
      ]
    },
    {
      "cell_type": "markdown",
      "metadata": {
        "id": "75IPDckIpYUK"
      },
      "source": [
        "**1. Statement**\n",
        "\n",
        "  Statement is the instructions of each line. Print('') is one of the easiest statement"
      ]
    },
    {
      "cell_type": "code",
      "metadata": {
        "colab": {
          "base_uri": "https://localhost:8080/"
        },
        "id": "WdHQNsJ6veZQ",
        "outputId": "f1ed0897-e57f-4575-9250-8fb0b157312d"
      },
      "source": [
        "print (\"Hello World\")"
      ],
      "execution_count": null,
      "outputs": [
        {
          "output_type": "stream",
          "name": "stdout",
          "text": [
            "Hello World\n"
          ]
        }
      ]
    },
    {
      "cell_type": "code",
      "metadata": {
        "colab": {
          "base_uri": "https://localhost:8080/"
        },
        "id": "0yf_Vbdsg1mk",
        "outputId": "0d38299e-c8ac-4c3b-f056-68a19c22c757"
      },
      "source": [
        "print(\"Hello! My name is Leni\")"
      ],
      "execution_count": null,
      "outputs": [
        {
          "output_type": "stream",
          "name": "stdout",
          "text": [
            "Hello! My name is Leni\n"
          ]
        }
      ]
    },
    {
      "cell_type": "markdown",
      "metadata": {
        "id": "gOLZdlH9qpOU"
      },
      "source": [
        "**2. Variables**\n",
        "\n",
        "  as a temporary container to store a data value or information."
      ]
    },
    {
      "cell_type": "code",
      "metadata": {
        "id": "83RMqzw_psNN"
      },
      "source": [
        "Name = \"Leni\""
      ],
      "execution_count": null,
      "outputs": []
    },
    {
      "cell_type": "code",
      "metadata": {
        "id": "U2MgQW9jrSrR",
        "colab": {
          "base_uri": "https://localhost:8080/"
        },
        "outputId": "7a2bd053-0e75-4961-be8b-b6cf74b6a4da"
      },
      "source": [
        "print(Name)"
      ],
      "execution_count": null,
      "outputs": [
        {
          "output_type": "stream",
          "name": "stdout",
          "text": [
            "Leni\n"
          ]
        }
      ]
    },
    {
      "cell_type": "code",
      "source": [
        "Age = 21"
      ],
      "metadata": {
        "id": "-P5FAnJM4Cyw"
      },
      "execution_count": null,
      "outputs": []
    },
    {
      "cell_type": "code",
      "source": [
        "print(Age)"
      ],
      "metadata": {
        "colab": {
          "base_uri": "https://localhost:8080/"
        },
        "id": "n18LSqa24Gv0",
        "outputId": "7581421c-ea76-469f-c74b-3142f5e6be7a"
      },
      "execution_count": null,
      "outputs": [
        {
          "output_type": "stream",
          "name": "stdout",
          "text": [
            "21\n"
          ]
        }
      ]
    },
    {
      "cell_type": "markdown",
      "metadata": {
        "id": "8hVfUYfnr4cQ"
      },
      "source": [
        "Think of a variable as a name attached to a particular object. In Python, variables are not needed to be declared or defined in advance, as in the case in many other programming languages. To create a variable, you just assign it a value and then start using it."
      ]
    },
    {
      "cell_type": "markdown",
      "metadata": {
        "id": "mDQXppRmr_Sq"
      },
      "source": [
        "    Python Variable's Naming Rules:\n",
        "    - The variable name must start with an alphabet (a-z, A-Z) or underscore (_) and cannot start with number (0–9).\n",
        "    - The variable name can only contain alphabets, underscores and numbers.\n",
        "    - The variable name is a case sensitive."
      ]
    },
    {
      "cell_type": "markdown",
      "metadata": {
        "id": "-DSMPkEesKSO"
      },
      "source": [
        "Tips: To name a variable, used a word that represent the value. Example: `number_1`, `word2`"
      ]
    },
    {
      "cell_type": "markdown",
      "metadata": {
        "id": "p14goemRwiDJ"
      },
      "source": [
        "**3. Literals**\n",
        "\n",
        "  the symbols, numbers or words used \n",
        "to be located in variables as an information"
      ]
    },
    {
      "cell_type": "code",
      "metadata": {
        "id": "EXFUy1I8sysy"
      },
      "source": [
        "x = \"this is called an literal\""
      ],
      "execution_count": null,
      "outputs": []
    },
    {
      "cell_type": "markdown",
      "metadata": {
        "id": "YcTSsPkyzkfr"
      },
      "source": [
        "**4. Operators**\n",
        "\n",
        "  to create interaction between two or more variables and literals. \n",
        "Example: +, -, *, etc."
      ]
    },
    {
      "cell_type": "code",
      "source": [
        "print(10*2-5)"
      ],
      "metadata": {
        "colab": {
          "base_uri": "https://localhost:8080/"
        },
        "id": "7svAUPX54og6",
        "outputId": "a2ad9aa3-f7de-4226-a0da-421f9b889624"
      },
      "execution_count": null,
      "outputs": [
        {
          "output_type": "stream",
          "name": "stdout",
          "text": [
            "15\n"
          ]
        }
      ]
    },
    {
      "cell_type": "code",
      "metadata": {
        "id": "NFJgyXs2zPL5",
        "colab": {
          "base_uri": "https://localhost:8080/"
        },
        "outputId": "6db34165-3e96-47f9-c852-29c2c1b9a6c6"
      },
      "source": [
        "a = 2\n",
        "b = 3\n",
        "c = a + b \n",
        "\n",
        "c\n"
      ],
      "execution_count": null,
      "outputs": [
        {
          "output_type": "execute_result",
          "data": {
            "text/plain": [
              "5"
            ]
          },
          "metadata": {},
          "execution_count": 13
        }
      ]
    },
    {
      "cell_type": "markdown",
      "metadata": {
        "id": "gG_t29qv0AMx"
      },
      "source": [
        "**5. Reserved Words**\n",
        "\n",
        "words that have a specific meaning. \n",
        "Example: True, False, return."
      ]
    },
    {
      "cell_type": "code",
      "metadata": {
        "id": "pF9m_-vgzzH6",
        "colab": {
          "base_uri": "https://localhost:8080/"
        },
        "outputId": "108bffca-160c-4c28-d6ec-1af68f9a6449"
      },
      "source": [
        "a = 6\n",
        "b = 4\n",
        "\n",
        "a is b "
      ],
      "execution_count": null,
      "outputs": [
        {
          "output_type": "execute_result",
          "data": {
            "text/plain": [
              "False"
            ]
          },
          "metadata": {},
          "execution_count": 18
        }
      ]
    },
    {
      "cell_type": "markdown",
      "metadata": {
        "id": "b33E3C_l00jt"
      },
      "source": [
        "\n",
        "**6. White Spaces**\n",
        "\n",
        "spacing and tabs (indentation) in Python. Indentation is important in Python, so be careful!"
      ]
    },
    {
      "cell_type": "code",
      "metadata": {
        "id": "xDLUxEMZ0UW0",
        "colab": {
          "base_uri": "https://localhost:8080/"
        },
        "outputId": "3ab34a65-e46c-468a-d7aa-fb0826c6b4cd"
      },
      "source": [
        "a =3\n",
        "\n",
        "\n",
        "if a >= 4:\n",
        "  a+=1\n",
        "else:\n",
        "  a-=1\n",
        "\n",
        "print(a)"
      ],
      "execution_count": null,
      "outputs": [
        {
          "output_type": "stream",
          "name": "stdout",
          "text": [
            "2\n"
          ]
        }
      ]
    },
    {
      "cell_type": "markdown",
      "metadata": {
        "id": "aZbSYRRs2DFt"
      },
      "source": [
        "**7. Comments**\n",
        "\n",
        "a non code texts. \n",
        "There are two kind of comments, single-line comment and multi-line comment."
      ]
    },
    {
      "cell_type": "code",
      "metadata": {
        "id": "dGuKi8q_1afx"
      },
      "source": [
        "# Hello, this is comment! use # for single line comment"
      ],
      "execution_count": null,
      "outputs": []
    },
    {
      "cell_type": "code",
      "source": [
        "print(10*2+2) #your age\n",
        "print(\"Leni\") #your name"
      ],
      "metadata": {
        "colab": {
          "base_uri": "https://localhost:8080/"
        },
        "id": "bAI5UqZ152vc",
        "outputId": "230f97c2-f537-4aaf-bbfa-d4ab0beea3ce"
      },
      "execution_count": null,
      "outputs": [
        {
          "output_type": "stream",
          "name": "stdout",
          "text": [
            "22\n",
            "Leni\n"
          ]
        }
      ]
    },
    {
      "cell_type": "code",
      "metadata": {
        "id": "beUObEJI1nGc",
        "colab": {
          "base_uri": "https://localhost:8080/",
          "height": 36
        },
        "outputId": "dace7303-1ae8-4aa9-a6cb-8436244d5ea3"
      },
      "source": [
        "'''\n",
        "\n",
        "  Hello,\n",
        "  This is another comment section!\n",
        "  Use (''' ''') for multi-line comments.\n",
        "\n",
        "'''"
      ],
      "execution_count": null,
      "outputs": [
        {
          "output_type": "execute_result",
          "data": {
            "text/plain": [
              "'\\n\\n  Hello,\\n  This is another comment section!\\n  Use () for multi-line comments.\\n\\n'"
            ],
            "application/vnd.google.colaboratory.intrinsic+json": {
              "type": "string"
            }
          },
          "metadata": {},
          "execution_count": 25
        }
      ]
    },
    {
      "cell_type": "markdown",
      "metadata": {
        "id": "wx-Z1lpD204q"
      },
      "source": [
        "# B. Python Data Type"
      ]
    },
    {
      "cell_type": "code",
      "source": [
        "from tabulate import tabulate\n",
        "table = [['Data Type', 'Example', 'Explanation'], ['Null',\t'None', 'data type used to store a null or zero value called None'], ['Boolean',\t'True or False', 'True = 1 or False = 0'], ['String',\t'Lets learn Python',\t'characters/sentences can be letters, numbers, etc,'], ['Integer', '35 or 2022', 'Declare an integer'], ['Float', '3.14 or 0.99', 'Declare a number that has a comma'], ['List', '[xyz, 786, 2.23]', 'Data strings that store various data types and their contents can be changed'], ['Tuple', '[xyz, 786, 2.23]', 'Data strings that store various types of data but whose contents cannot be changed'], ['Dictionary', '[name : Leni, age: 22]', 'Data strings that store different data types as pointer and value pairs']]\n",
        "print(tabulate(table, headers='firstrow', tablefmt='fancy_grid'))"
      ],
      "metadata": {
        "colab": {
          "base_uri": "https://localhost:8080/"
        },
        "id": "KOxdRUdL-dmY",
        "outputId": "1e40e3e8-fb3f-4e0b-9cb9-bd318e2c4276"
      },
      "execution_count": null,
      "outputs": [
        {
          "output_type": "stream",
          "name": "stdout",
          "text": [
            "╒═════════════╤════════════════════════╤════════════════════════════════════════════════════════════════════════════════════╕\n",
            "│ Data Type   │ Example                │ Explanation                                                                        │\n",
            "╞═════════════╪════════════════════════╪════════════════════════════════════════════════════════════════════════════════════╡\n",
            "│ Null        │ None                   │ data type used to store a null or zero value called None                           │\n",
            "├─────────────┼────────────────────────┼────────────────────────────────────────────────────────────────────────────────────┤\n",
            "│ Boolean     │ True or False          │ True = 1 or False = 0                                                              │\n",
            "├─────────────┼────────────────────────┼────────────────────────────────────────────────────────────────────────────────────┤\n",
            "│ String      │ Lets learn Python      │ characters/sentences can be letters, numbers, etc,                                 │\n",
            "├─────────────┼────────────────────────┼────────────────────────────────────────────────────────────────────────────────────┤\n",
            "│ Integer     │ 35 or 2022             │ Declare an integer                                                                 │\n",
            "├─────────────┼────────────────────────┼────────────────────────────────────────────────────────────────────────────────────┤\n",
            "│ Float       │ 3.14 or 0.99           │ Declare a number that has a comma                                                  │\n",
            "├─────────────┼────────────────────────┼────────────────────────────────────────────────────────────────────────────────────┤\n",
            "│ List        │ [xyz, 786, 2.23]       │ Data strings that store various data types and their contents can be changed       │\n",
            "├─────────────┼────────────────────────┼────────────────────────────────────────────────────────────────────────────────────┤\n",
            "│ Tuple       │ [xyz, 786, 2.23]       │ Data strings that store various types of data but whose contents cannot be changed │\n",
            "├─────────────┼────────────────────────┼────────────────────────────────────────────────────────────────────────────────────┤\n",
            "│ Dictionary  │ [name : Leni, age: 22] │ Data strings that store different data types as pointer and value pairs            │\n",
            "╘═════════════╧════════════════════════╧════════════════════════════════════════════════════════════════════════════════════╛\n"
          ]
        }
      ]
    },
    {
      "cell_type": "markdown",
      "metadata": {
        "id": "cGoErWqh4uqS"
      },
      "source": [
        "**1. Null Type**\n",
        "\n",
        "data type used to store a null or zero value called **None**"
      ]
    },
    {
      "cell_type": "code",
      "metadata": {
        "colab": {
          "base_uri": "https://localhost:8080/"
        },
        "id": "KXFRFJnL2pn-",
        "outputId": "693d944b-20eb-4a7a-d51b-ef5c0f796338"
      },
      "source": [
        "def has_no_return():\n",
        "    pass\n",
        "\n",
        "has_no_return()\n",
        "print(has_no_return())"
      ],
      "execution_count": null,
      "outputs": [
        {
          "output_type": "stream",
          "text": [
            "None\n"
          ],
          "name": "stdout"
        }
      ]
    },
    {
      "cell_type": "markdown",
      "metadata": {
        "id": "w9dykks65TLd"
      },
      "source": [
        "**2. Boolean Type**\n",
        "\n",
        "data type used to store logical values (True or False) called **bool**"
      ]
    },
    {
      "cell_type": "code",
      "metadata": {
        "id": "apeusR-M5cK6"
      },
      "source": [
        "a = 6\n",
        "b = 4"
      ],
      "execution_count": null,
      "outputs": []
    },
    {
      "cell_type": "code",
      "metadata": {
        "colab": {
          "base_uri": "https://localhost:8080/"
        },
        "id": "_SKqI2OJ5cHf",
        "outputId": "bf355b59-61b5-4f44-aff2-c7e2dfda9f8d"
      },
      "source": [
        "a is b"
      ],
      "execution_count": null,
      "outputs": [
        {
          "output_type": "execute_result",
          "data": {
            "text/plain": [
              "False"
            ]
          },
          "metadata": {
            "tags": []
          },
          "execution_count": 23
        }
      ]
    },
    {
      "cell_type": "code",
      "metadata": {
        "colab": {
          "base_uri": "https://localhost:8080/"
        },
        "id": "YDr-eLMy449Q",
        "outputId": "12ddd4e0-9033-4391-af0b-32eab3adb88d"
      },
      "source": [
        "a is not b "
      ],
      "execution_count": null,
      "outputs": [
        {
          "output_type": "execute_result",
          "data": {
            "text/plain": [
              "True"
            ]
          },
          "metadata": {
            "tags": []
          },
          "execution_count": 24
        }
      ]
    },
    {
      "cell_type": "markdown",
      "metadata": {
        "id": "YZHJtFvK5qDy"
      },
      "source": [
        "**3. Numeric Type**\n",
        "\n",
        "data type used to store numeric values. There are two type of numeric data types: **integer** and **float**. "
      ]
    },
    {
      "cell_type": "markdown",
      "metadata": {
        "id": "271RfBwL50NM"
      },
      "source": [
        "\n",
        "\n",
        "*   Integer\n",
        "\n",
        "  int is used to store integer value both positive or negative (-inf, +inf).\n"
      ]
    },
    {
      "cell_type": "code",
      "metadata": {
        "id": "4FJNUoBh5lfF"
      },
      "source": [
        "x = 10"
      ],
      "execution_count": null,
      "outputs": []
    },
    {
      "cell_type": "code",
      "metadata": {
        "id": "9js8DzrY6Grm"
      },
      "source": [
        "y = -3"
      ],
      "execution_count": null,
      "outputs": []
    },
    {
      "cell_type": "markdown",
      "metadata": {
        "id": "HWAjmMxy6Oj3"
      },
      "source": [
        "*   Float\n",
        "\n",
        "  float is used to store real value either positive, negative or decimals.\n"
      ]
    },
    {
      "cell_type": "code",
      "metadata": {
        "id": "QEGIDVdi6I5w"
      },
      "source": [
        "x = 10.5"
      ],
      "execution_count": null,
      "outputs": []
    },
    {
      "cell_type": "code",
      "metadata": {
        "id": "wem2YH3I6aF2"
      },
      "source": [
        "y = -4.5"
      ],
      "execution_count": null,
      "outputs": []
    },
    {
      "cell_type": "markdown",
      "metadata": {
        "id": "EfHiluba6ev8"
      },
      "source": [
        "**4. String/Text Type**\n",
        "\n",
        "data type used to store text data, called string or str. A string data type must start with a single or double quotation mark ('…' / \"…\")"
      ]
    },
    {
      "cell_type": "code",
      "metadata": {
        "colab": {
          "base_uri": "https://localhost:8080/",
          "height": 36
        },
        "id": "K4entWq06cL_",
        "outputId": "1aa04bdf-79db-42d9-8414-e94b65df8e33"
      },
      "source": [
        "x = \"Halo HMTE!\"\n",
        "\n",
        "x"
      ],
      "execution_count": null,
      "outputs": [
        {
          "output_type": "execute_result",
          "data": {
            "text/plain": [
              "'Halo HMTE!'"
            ],
            "application/vnd.google.colaboratory.intrinsic+json": {
              "type": "string"
            }
          },
          "metadata": {},
          "execution_count": 34
        }
      ]
    },
    {
      "cell_type": "markdown",
      "metadata": {
        "id": "FDfiPYTB6zLs"
      },
      "source": [
        "**5. Sequence Type**\n",
        "\n",
        "data type used to store a group of sequenced data, such as List and Tuples."
      ]
    },
    {
      "cell_type": "markdown",
      "metadata": {
        "id": "MHr44_Tb68Lp"
      },
      "source": [
        "*   List\n",
        "\n",
        "  List is a **mutable** sequence data type. Mutable means that every single data in the list can be accessed and modified. To make a list, use a bracket with a comma as separator."
      ]
    },
    {
      "cell_type": "code",
      "metadata": {
        "id": "ZUQ9Acsd7WZF"
      },
      "source": [
        "List_1 = ['a', \"b\", 1.0]"
      ],
      "execution_count": null,
      "outputs": []
    },
    {
      "cell_type": "markdown",
      "metadata": {
        "id": "hXt8FMwQ7fX4"
      },
      "source": [
        "A data in the list can be accessed using syntax:\n",
        "\n",
        " `list_name[index]`"
      ]
    },
    {
      "cell_type": "code",
      "metadata": {
        "colab": {
          "base_uri": "https://localhost:8080/"
        },
        "id": "KQOwecQh8NQ-",
        "outputId": "a28fd24c-9f3a-45cd-c708-42b22472cfc1"
      },
      "source": [
        "List_1[2]"
      ],
      "execution_count": null,
      "outputs": [
        {
          "output_type": "execute_result",
          "data": {
            "text/plain": [
              "1.0"
            ]
          },
          "metadata": {
            "tags": []
          },
          "execution_count": 33
        }
      ]
    },
    {
      "cell_type": "markdown",
      "metadata": {
        "id": "QH5VV5LM8MI4"
      },
      "source": [
        "and can be modified using syntax:\n",
        "\n",
        " `list_name[index] = values`"
      ]
    },
    {
      "cell_type": "code",
      "metadata": {
        "colab": {
          "base_uri": "https://localhost:8080/"
        },
        "id": "YIRq3pVc8TMn",
        "outputId": "efa194cf-0149-4537-d2ec-b3d135038bc5"
      },
      "source": [
        "List_1[2] = 'c' \n",
        "List_1"
      ],
      "execution_count": null,
      "outputs": [
        {
          "output_type": "execute_result",
          "data": {
            "text/plain": [
              "['a', 'b', 'c']"
            ]
          },
          "metadata": {
            "tags": []
          },
          "execution_count": 34
        }
      ]
    },
    {
      "cell_type": "markdown",
      "metadata": {
        "id": "iSJ1K_-Wg4oJ"
      },
      "source": [
        "to delete an element in a list:\n",
        "\n",
        " `del list_name[index]`"
      ]
    },
    {
      "cell_type": "code",
      "metadata": {
        "colab": {
          "base_uri": "https://localhost:8080/"
        },
        "id": "ZwC6Z20khC5j",
        "outputId": "d9f1b951-22c0-4177-9b46-8ae427d202a1"
      },
      "source": [
        "del List_1[1]\n",
        "List_1"
      ],
      "execution_count": null,
      "outputs": [
        {
          "output_type": "execute_result",
          "data": {
            "text/plain": [
              "['a', 'c']"
            ]
          },
          "metadata": {
            "tags": []
          },
          "execution_count": 35
        }
      ]
    },
    {
      "cell_type": "markdown",
      "metadata": {
        "id": "SIzwH3It7AAr"
      },
      "source": [
        "*   Tuples\n",
        "\n",
        "  Tuple is also a sequence data type but **immutable**. In contrary with mutable, immutable means that the every single data in the tuple can be accessed, but cannot be modified. To make a tuple, use a parentheses with a comma as separator."
      ]
    },
    {
      "cell_type": "code",
      "metadata": {
        "id": "nJrW6UgG6uo0"
      },
      "source": [
        "Tuple_1 = ('January','February','March','April')"
      ],
      "execution_count": null,
      "outputs": []
    },
    {
      "cell_type": "markdown",
      "metadata": {
        "id": "xMQJwUrB8tXa"
      },
      "source": [
        "A data in the tuple can be accessed using syntax:\n",
        "\n",
        "`tuple_name[index]`"
      ]
    },
    {
      "cell_type": "code",
      "metadata": {
        "colab": {
          "base_uri": "https://localhost:8080/",
          "height": 36
        },
        "id": "gJ545APzvLbq",
        "outputId": "450cb6aa-9942-47a8-db3a-097448770b96"
      },
      "source": [
        "Tuple_1[0]"
      ],
      "execution_count": null,
      "outputs": [
        {
          "output_type": "execute_result",
          "data": {
            "application/vnd.google.colaboratory.intrinsic+json": {
              "type": "string"
            },
            "text/plain": [
              "'January'"
            ]
          },
          "metadata": {
            "tags": []
          },
          "execution_count": 37
        }
      ]
    },
    {
      "cell_type": "markdown",
      "metadata": {
        "id": "ZXDXwZhX84ru"
      },
      "source": [
        "but remember, it can not be modified."
      ]
    },
    {
      "cell_type": "code",
      "metadata": {
        "colab": {
          "base_uri": "https://localhost:8080/",
          "height": 204
        },
        "id": "GjkZbZctcTL8",
        "outputId": "dbb26be5-4c5e-4d2f-923a-a51f2d87b9d6"
      },
      "source": [
        "#example\n",
        "\n",
        "Tuple_1[2] = 'October'"
      ],
      "execution_count": null,
      "outputs": [
        {
          "output_type": "error",
          "ename": "TypeError",
          "evalue": "ignored",
          "traceback": [
            "\u001b[0;31m---------------------------------------------------------------------------\u001b[0m",
            "\u001b[0;31mTypeError\u001b[0m                                 Traceback (most recent call last)",
            "\u001b[0;32m<ipython-input-38-dd6c4bc7e2c2>\u001b[0m in \u001b[0;36m<module>\u001b[0;34m()\u001b[0m\n\u001b[1;32m      1\u001b[0m \u001b[0;31m#example\u001b[0m\u001b[0;34m\u001b[0m\u001b[0;34m\u001b[0m\u001b[0;34m\u001b[0m\u001b[0m\n\u001b[1;32m      2\u001b[0m \u001b[0;34m\u001b[0m\u001b[0m\n\u001b[0;32m----> 3\u001b[0;31m \u001b[0mTuple_1\u001b[0m\u001b[0;34m[\u001b[0m\u001b[0;36m2\u001b[0m\u001b[0;34m]\u001b[0m \u001b[0;34m=\u001b[0m \u001b[0;34m'October'\u001b[0m\u001b[0;34m\u001b[0m\u001b[0;34m\u001b[0m\u001b[0m\n\u001b[0m",
            "\u001b[0;31mTypeError\u001b[0m: 'tuple' object does not support item assignment"
          ]
        }
      ]
    },
    {
      "cell_type": "markdown",
      "metadata": {
        "id": "JZoxdBukc4fN"
      },
      "source": [
        "**6. Set Type**\n",
        "\n",
        "data type used to store a group of not sequenced data. There are two more types of set data types: **set** and **frozenset**."
      ]
    },
    {
      "cell_type": "markdown",
      "metadata": {
        "id": "eJ7qpwqNrdKG"
      },
      "source": [
        "In contrary with sequenced type data, a set is group of **unique** and **not sequenced** data. Unique means that there are no repetition of value (double value) in a set. Also a not sequenced data means that we cannot access the data by indexing. To make a set, use a brace with a comma as separator."
      ]
    },
    {
      "cell_type": "code",
      "metadata": {
        "id": "i3uk4lzn8kXy"
      },
      "source": [
        "Set_1 = {'January', 'February', 'March', 'April'}"
      ],
      "execution_count": null,
      "outputs": []
    },
    {
      "cell_type": "markdown",
      "metadata": {
        "id": "RIl8Rr7Ve1dO"
      },
      "source": [
        "To access data in a set, we can not do indexing. Instead, use looping."
      ]
    },
    {
      "cell_type": "code",
      "metadata": {
        "colab": {
          "base_uri": "https://localhost:8080/"
        },
        "id": "ReRDk3Gudgmw",
        "outputId": "5979e909-ce0e-4c85-eca4-9dd7498be2d0"
      },
      "source": [
        "for month in Set_1:\n",
        "\tprint(month)"
      ],
      "execution_count": null,
      "outputs": [
        {
          "output_type": "stream",
          "text": [
            "April\n",
            "February\n",
            "March\n",
            "January\n"
          ],
          "name": "stdout"
        }
      ]
    },
    {
      "cell_type": "markdown",
      "metadata": {
        "id": "iX8Ata2wfQDj"
      },
      "source": [
        "To modify data in a set, we need to use another command method.\n",
        "\n",
        "\n",
        "*   To add a new element\n",
        "\n",
        "    `set.add(element)`\n",
        "\n",
        "\n"
      ]
    },
    {
      "cell_type": "code",
      "metadata": {
        "colab": {
          "base_uri": "https://localhost:8080/"
        },
        "id": "eXGC1teYf1ze",
        "outputId": "348386a9-75d2-4cde-819b-6630cd1ffca6"
      },
      "source": [
        "Set_1.add('May')\n",
        "\n",
        "Set_1"
      ],
      "execution_count": null,
      "outputs": [
        {
          "output_type": "execute_result",
          "data": {
            "text/plain": [
              "{'April', 'February', 'January', 'March', 'May'}"
            ]
          },
          "metadata": {
            "tags": []
          },
          "execution_count": 43
        }
      ]
    },
    {
      "cell_type": "markdown",
      "metadata": {
        "id": "jbh8fghdf0n0"
      },
      "source": [
        "*   To remove an element\n",
        "\n",
        "    `set.discard(element)`"
      ]
    },
    {
      "cell_type": "code",
      "metadata": {
        "colab": {
          "base_uri": "https://localhost:8080/"
        },
        "id": "WZuT3ibMfFGn",
        "outputId": "d65665cf-4f47-4656-a0c0-dfc54d7ed017"
      },
      "source": [
        "Set_1.discard('January')\n",
        "\n",
        "Set_1"
      ],
      "execution_count": null,
      "outputs": [
        {
          "output_type": "execute_result",
          "data": {
            "text/plain": [
              "{'April', 'February', 'March', 'May'}"
            ]
          },
          "metadata": {
            "tags": []
          },
          "execution_count": 44
        }
      ]
    },
    {
      "cell_type": "markdown",
      "metadata": {
        "id": "shqqSzbankUc"
      },
      "source": [
        "**Frozen Set**\n",
        "\n",
        "A frozen set technically is a set inside a tuple, so definitely, it's immutable! That means, every single data in the set cannot be modified once declared."
      ]
    },
    {
      "cell_type": "code",
      "metadata": {
        "id": "t3lALGLygJ0T"
      },
      "source": [
        "Frozenset_1 = ({'January', 'February', 'March', 'April'})"
      ],
      "execution_count": null,
      "outputs": []
    },
    {
      "cell_type": "markdown",
      "metadata": {
        "id": "j5hDcHbqodZH"
      },
      "source": [
        "**7. Mapping Type**\n",
        "\n",
        "data type used to map a value into another value. In Python, data mapping type is called a **dictionary**."
      ]
    },
    {
      "cell_type": "markdown",
      "metadata": {
        "id": "KHUME1rts2xN"
      },
      "source": [
        "Dictionary is a data mapping type in Python. To make a dictionary, use a brace with a comma as separator. Inside the brace, use colon to divide between the **keyword** and **value**."
      ]
    },
    {
      "cell_type": "code",
      "metadata": {
        "id": "buIBe7SIobFn"
      },
      "source": [
        "Dict_1 = {'Name':'Leni', 'Age':22, 'Domicile':'Pontianak'}"
      ],
      "execution_count": null,
      "outputs": []
    },
    {
      "cell_type": "markdown",
      "metadata": {
        "id": "MqJsUJquuP7o"
      },
      "source": [
        "A data in the dict can be accessed using syntax:\n",
        "\n",
        "`print(dict[keyword])`"
      ]
    },
    {
      "cell_type": "code",
      "metadata": {
        "id": "QnVjgKwOtQlw"
      },
      "source": [
        "print(Dict_1['Name'])"
      ],
      "execution_count": null,
      "outputs": []
    },
    {
      "cell_type": "markdown",
      "metadata": {
        "id": "ap0hJb-0vH_D"
      },
      "source": [
        "# C. Python Operators"
      ]
    },
    {
      "cell_type": "markdown",
      "metadata": {
        "id": "xIETlAX9vT5j"
      },
      "source": [
        "**1. Arithmetic Operators**\n",
        "\n",
        "used for basic mathematical operation of numerical data type."
      ]
    },
    {
      "cell_type": "code",
      "metadata": {
        "id": "VXKoEkQKwFCK"
      },
      "source": [
        "# Consider these variables:\n",
        "\n",
        "a = 5\n",
        "b = 9"
      ],
      "execution_count": null,
      "outputs": []
    },
    {
      "cell_type": "markdown",
      "metadata": {
        "id": "pZCjXbCtwAqD"
      },
      "source": [
        "\n",
        "\n",
        "*   Addition\n",
        "\n"
      ]
    },
    {
      "cell_type": "code",
      "metadata": {
        "colab": {
          "base_uri": "https://localhost:8080/"
        },
        "id": "BQDBNNSzvLMI",
        "outputId": "457e48e1-7d1c-40f1-d623-d95923992c51"
      },
      "source": [
        "add = a+b\n",
        "\n",
        "add"
      ],
      "execution_count": null,
      "outputs": [
        {
          "output_type": "execute_result",
          "data": {
            "text/plain": [
              "14"
            ]
          },
          "metadata": {
            "tags": []
          },
          "execution_count": 49
        }
      ]
    },
    {
      "cell_type": "markdown",
      "metadata": {
        "id": "L6rl-9m1wbYX"
      },
      "source": [
        "\n",
        "\n",
        "*   Substraction\n",
        "\n"
      ]
    },
    {
      "cell_type": "code",
      "metadata": {
        "colab": {
          "base_uri": "https://localhost:8080/"
        },
        "id": "LgxSy7u7wXgk",
        "outputId": "66d6695b-c098-4027-bb61-c9f1ef63ba74"
      },
      "source": [
        "subs = a-b\n",
        "\n",
        "subs"
      ],
      "execution_count": null,
      "outputs": [
        {
          "output_type": "execute_result",
          "data": {
            "text/plain": [
              "-4"
            ]
          },
          "metadata": {
            "tags": []
          },
          "execution_count": 50
        }
      ]
    },
    {
      "cell_type": "markdown",
      "metadata": {
        "id": "TKOXrQ9AwwuB"
      },
      "source": [
        "\n",
        "\n",
        "*   Multiplication\n",
        "\n"
      ]
    },
    {
      "cell_type": "code",
      "metadata": {
        "colab": {
          "base_uri": "https://localhost:8080/"
        },
        "id": "vRokFovIwlk0",
        "outputId": "d1a76e3e-43a2-41b5-d96d-107e1e33b2ef"
      },
      "source": [
        "mpy = a*b\n",
        "\n",
        "mpy"
      ],
      "execution_count": null,
      "outputs": [
        {
          "output_type": "execute_result",
          "data": {
            "text/plain": [
              "45"
            ]
          },
          "metadata": {
            "tags": []
          },
          "execution_count": 51
        }
      ]
    },
    {
      "cell_type": "markdown",
      "metadata": {
        "id": "DK60MLXaw7OU"
      },
      "source": [
        "\n",
        "\n",
        "*   Division\n",
        "\n"
      ]
    },
    {
      "cell_type": "code",
      "metadata": {
        "colab": {
          "base_uri": "https://localhost:8080/"
        },
        "id": "fhnWQvOsw5S2",
        "outputId": "38877c92-ac6f-4248-d536-ed3cfeb62571"
      },
      "source": [
        "dvd = a/b\n",
        "\n",
        "dvd"
      ],
      "execution_count": null,
      "outputs": [
        {
          "output_type": "execute_result",
          "data": {
            "text/plain": [
              "0.5555555555555556"
            ]
          },
          "metadata": {
            "tags": []
          },
          "execution_count": 52
        }
      ]
    },
    {
      "cell_type": "markdown",
      "metadata": {
        "id": "Ign_7yuwxEzL"
      },
      "source": [
        "\n",
        "\n",
        "*   Modulus\n",
        "\n"
      ]
    },
    {
      "cell_type": "code",
      "metadata": {
        "colab": {
          "base_uri": "https://localhost:8080/"
        },
        "id": "aafix1AbxAxh",
        "outputId": "dd6da8ac-ecf2-4572-cd69-01e2a357b8a5"
      },
      "source": [
        "mod = a%b\n",
        "\n",
        "mod"
      ],
      "execution_count": null,
      "outputs": [
        {
          "output_type": "execute_result",
          "data": {
            "text/plain": [
              "5"
            ]
          },
          "metadata": {
            "tags": []
          },
          "execution_count": 54
        }
      ]
    },
    {
      "cell_type": "markdown",
      "metadata": {
        "id": "2d3EjfvcxQx4"
      },
      "source": [
        "\n",
        "\n",
        "*   Square (Power)\n",
        "\n"
      ]
    },
    {
      "cell_type": "code",
      "metadata": {
        "colab": {
          "base_uri": "https://localhost:8080/"
        },
        "id": "apaYc-jRxY8G",
        "outputId": "8f81aeb4-15ee-4215-d20f-b475e5277e39"
      },
      "source": [
        "pow = a**b\n",
        "\n",
        "pow"
      ],
      "execution_count": null,
      "outputs": [
        {
          "output_type": "execute_result",
          "data": {
            "text/plain": [
              "1953125"
            ]
          },
          "metadata": {
            "tags": []
          },
          "execution_count": 53
        }
      ]
    },
    {
      "cell_type": "markdown",
      "metadata": {
        "id": "PFEw53rAxVGx"
      },
      "source": [
        "\n",
        "\n",
        "*   Floor Division\n",
        "\n"
      ]
    },
    {
      "cell_type": "code",
      "metadata": {
        "colab": {
          "base_uri": "https://localhost:8080/"
        },
        "id": "ae4us4EaxIWP",
        "outputId": "09bf8eeb-2143-4a00-ce6a-d662add2e582"
      },
      "source": [
        "floor = a//b\n",
        "\n",
        "floor"
      ],
      "execution_count": null,
      "outputs": [
        {
          "output_type": "execute_result",
          "data": {
            "text/plain": [
              "0"
            ]
          },
          "metadata": {
            "tags": []
          },
          "execution_count": 55
        }
      ]
    },
    {
      "cell_type": "markdown",
      "metadata": {
        "id": "-flFwgLuxtf2"
      },
      "source": [
        "**2. Assignment Operators**\n",
        "\n",
        "used to declare a value directly to a variable. The operators are just the same with the arithmetic ones. "
      ]
    },
    {
      "cell_type": "markdown",
      "metadata": {
        "id": "GH8E_Fibz4B6"
      },
      "source": [
        "![1_eUMhU6PdH2puQkevbn2SpQ.png](data:image/png;base64,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)"
      ]
    },
    {
      "cell_type": "markdown",
      "metadata": {
        "id": "kqLx2hqr0pxS"
      },
      "source": [
        "**3. Comparison Operators**\n",
        "\n",
        "used to compare between two values."
      ]
    },
    {
      "cell_type": "markdown",
      "metadata": {
        "id": "E-A4Nm3o26hZ"
      },
      "source": [
        "\n",
        "\n",
        "*   Equal\n",
        "\n"
      ]
    },
    {
      "cell_type": "code",
      "metadata": {
        "colab": {
          "base_uri": "https://localhost:8080/"
        },
        "id": "QVAbmlia3UpC",
        "outputId": "66ba15e4-b8b1-4943-f648-afe5b6b066e4"
      },
      "source": [
        "equal = a == b\n",
        "\n",
        "equal"
      ],
      "execution_count": null,
      "outputs": [
        {
          "output_type": "execute_result",
          "data": {
            "text/plain": [
              "False"
            ]
          },
          "metadata": {
            "tags": []
          },
          "execution_count": 41
        }
      ]
    },
    {
      "cell_type": "markdown",
      "metadata": {
        "id": "SKppg1G_27wQ"
      },
      "source": [
        "\n",
        "\n",
        "*   Not Equal\n",
        "\n"
      ]
    },
    {
      "cell_type": "code",
      "metadata": {
        "colab": {
          "base_uri": "https://localhost:8080/"
        },
        "id": "nmUhodSV3XTu",
        "outputId": "f5b23452-eac9-4a63-adc5-9b1cb2f36c8c"
      },
      "source": [
        "nequal = a != b\n",
        "nequal"
      ],
      "execution_count": null,
      "outputs": [
        {
          "output_type": "execute_result",
          "data": {
            "text/plain": [
              "True"
            ]
          },
          "metadata": {
            "tags": []
          },
          "execution_count": 42
        }
      ]
    },
    {
      "cell_type": "markdown",
      "metadata": {
        "id": "QjNqvKBO2_03"
      },
      "source": [
        "\n",
        "\n",
        "*   Greater Than\n",
        "\n"
      ]
    },
    {
      "cell_type": "code",
      "metadata": {
        "colab": {
          "base_uri": "https://localhost:8080/"
        },
        "id": "FAe69JBh3ed3",
        "outputId": "937533cb-4d3c-4a35-f3cc-f630dbee20e2"
      },
      "source": [
        "greater = a > b\n",
        "greater"
      ],
      "execution_count": null,
      "outputs": [
        {
          "output_type": "execute_result",
          "data": {
            "text/plain": [
              "False"
            ]
          },
          "metadata": {
            "tags": []
          },
          "execution_count": 43
        }
      ]
    },
    {
      "cell_type": "markdown",
      "metadata": {
        "id": "1WrlLgQz3Ce5"
      },
      "source": [
        "\n",
        "\n",
        "*   Less Than\n",
        "\n"
      ]
    },
    {
      "cell_type": "code",
      "metadata": {
        "colab": {
          "base_uri": "https://localhost:8080/"
        },
        "id": "aPIC63BU3jYX",
        "outputId": "1cbbcd9a-a2f3-4a42-bbac-d9397c2e4b0a"
      },
      "source": [
        "less = a < b\n",
        "less"
      ],
      "execution_count": null,
      "outputs": [
        {
          "output_type": "execute_result",
          "data": {
            "text/plain": [
              "True"
            ]
          },
          "metadata": {
            "tags": []
          },
          "execution_count": 44
        }
      ]
    },
    {
      "cell_type": "markdown",
      "metadata": {
        "id": "g0PJWnY03IDf"
      },
      "source": [
        "\n",
        "\n",
        "*   Greater Than or Equal To\n",
        "\n"
      ]
    },
    {
      "cell_type": "code",
      "metadata": {
        "colab": {
          "base_uri": "https://localhost:8080/"
        },
        "id": "80n-efak3mPf",
        "outputId": "d5f69cdf-4eb4-4fcc-b648-8c5f7f3928ad"
      },
      "source": [
        "great_or_equal = a >= b\n",
        "\n",
        "great_or_equal"
      ],
      "execution_count": null,
      "outputs": [
        {
          "output_type": "execute_result",
          "data": {
            "text/plain": [
              "False"
            ]
          },
          "metadata": {
            "tags": []
          },
          "execution_count": 45
        }
      ]
    },
    {
      "cell_type": "markdown",
      "metadata": {
        "id": "C2ocfjlJ3NwY"
      },
      "source": [
        "\n",
        "\n",
        "*   Less Than or Equal To\n",
        "\n"
      ]
    },
    {
      "cell_type": "code",
      "metadata": {
        "colab": {
          "base_uri": "https://localhost:8080/"
        },
        "id": "LbSGWn4sxfvD",
        "outputId": "cd339fd8-dd96-4620-c176-8615d496f118"
      },
      "source": [
        "less_or_equal = a <= b \n",
        "\n",
        "less_or_equal"
      ],
      "execution_count": null,
      "outputs": [
        {
          "output_type": "execute_result",
          "data": {
            "text/plain": [
              "True"
            ]
          },
          "metadata": {
            "tags": []
          },
          "execution_count": 46
        }
      ]
    },
    {
      "cell_type": "markdown",
      "metadata": {
        "id": "vPSv_6xR35ca"
      },
      "source": [
        "**4. Logical Operators**\n",
        "\n",
        "used to combine conditional statements.\n",
        "\n"
      ]
    },
    {
      "cell_type": "markdown",
      "metadata": {
        "id": "wuQ2oCAE4Onm"
      },
      "source": [
        "\n",
        "\n",
        "*   AND\n",
        "\n",
        "\n",
        "Returns True if both of operands are true"
      ]
    },
    {
      "cell_type": "code",
      "metadata": {
        "colab": {
          "base_uri": "https://localhost:8080/"
        },
        "id": "tjRRFok3yVZ_",
        "outputId": "12faa32a-d452-4dc1-9e3c-0a5c1d252fa5"
      },
      "source": [
        "a"
      ],
      "execution_count": null,
      "outputs": [
        {
          "output_type": "execute_result",
          "data": {
            "text/plain": [
              "5"
            ]
          },
          "metadata": {
            "tags": []
          },
          "execution_count": 57
        }
      ]
    },
    {
      "cell_type": "code",
      "metadata": {
        "colab": {
          "base_uri": "https://localhost:8080/"
        },
        "id": "-nh2teQr4rMz",
        "outputId": "e297e587-779d-474d-eea8-dd4512900189"
      },
      "source": [
        "a < 1 and a > 5"
      ],
      "execution_count": null,
      "outputs": [
        {
          "output_type": "execute_result",
          "data": {
            "text/plain": [
              "False"
            ]
          },
          "metadata": {
            "tags": []
          },
          "execution_count": 47
        }
      ]
    },
    {
      "cell_type": "code",
      "metadata": {
        "colab": {
          "base_uri": "https://localhost:8080/"
        },
        "id": "swCc0tZv49gh",
        "outputId": "9eef5ecb-b60f-4f23-d85a-6efecd50c78c"
      },
      "source": [
        "a < 10 and a > 2"
      ],
      "execution_count": null,
      "outputs": [
        {
          "output_type": "execute_result",
          "data": {
            "text/plain": [
              "True"
            ]
          },
          "metadata": {
            "tags": []
          },
          "execution_count": 58
        }
      ]
    },
    {
      "cell_type": "markdown",
      "metadata": {
        "id": "8QxJBElF4WJh"
      },
      "source": [
        "\n",
        "\n",
        "*   OR\n",
        "\n",
        "\n",
        "Returns True if one of the operand is true\n",
        "\n"
      ]
    },
    {
      "cell_type": "code",
      "metadata": {
        "colab": {
          "base_uri": "https://localhost:8080/"
        },
        "id": "rVGD9nh25JaQ",
        "outputId": "d84d599c-1601-4c89-a99a-6c8eaa188ea3"
      },
      "source": [
        "a < 1 or a > 5"
      ],
      "execution_count": null,
      "outputs": [
        {
          "output_type": "execute_result",
          "data": {
            "text/plain": [
              "False"
            ]
          },
          "metadata": {
            "tags": []
          },
          "execution_count": 49
        }
      ]
    },
    {
      "cell_type": "code",
      "metadata": {
        "colab": {
          "base_uri": "https://localhost:8080/"
        },
        "id": "Yv4u5MPD5Nuh",
        "outputId": "7513567b-7412-407f-ec59-f01c53246f0a"
      },
      "source": [
        "a < 5 or a > 1"
      ],
      "execution_count": null,
      "outputs": [
        {
          "output_type": "execute_result",
          "data": {
            "text/plain": [
              "True"
            ]
          },
          "metadata": {
            "tags": []
          },
          "execution_count": 50
        }
      ]
    },
    {
      "cell_type": "markdown",
      "metadata": {
        "id": "fjor4ruK4WUV"
      },
      "source": [
        "\n",
        "\n",
        "*   NOT\n",
        "\n",
        "\n",
        "Returns True if the result is complementary.\n",
        "\n"
      ]
    },
    {
      "cell_type": "code",
      "metadata": {
        "colab": {
          "base_uri": "https://localhost:8080/"
        },
        "id": "diS1Ze2Z34r_",
        "outputId": "9aefdc1f-3299-4bc3-90a0-3619c90d80e6"
      },
      "source": [
        "not(a <= 3)"
      ],
      "execution_count": null,
      "outputs": [
        {
          "output_type": "execute_result",
          "data": {
            "text/plain": [
              "True"
            ]
          },
          "metadata": {
            "tags": []
          },
          "execution_count": 53
        }
      ]
    },
    {
      "cell_type": "markdown",
      "metadata": {
        "id": "Pe8cvjG36Jzb"
      },
      "source": [
        "**5. Identity Operators**\n",
        "\n",
        "used to compare the identity between two variables. Identity operators commonly used along with type() function to identify the data type.\n",
        "\n"
      ]
    },
    {
      "cell_type": "markdown",
      "metadata": {
        "id": "tfoq6HHO6xlN"
      },
      "source": [
        "\n",
        "\n",
        "*   is\n",
        "\n",
        "\n",
        "Returns True if the operands are identical\n",
        "\n"
      ]
    },
    {
      "cell_type": "code",
      "metadata": {
        "colab": {
          "base_uri": "https://localhost:8080/"
        },
        "id": "Bf3_g5uGy7iD",
        "outputId": "48982a50-3fdb-41ac-a8ad-3e5fd1b52036"
      },
      "source": [
        "b"
      ],
      "execution_count": null,
      "outputs": [
        {
          "output_type": "execute_result",
          "data": {
            "text/plain": [
              "9"
            ]
          },
          "metadata": {
            "tags": []
          },
          "execution_count": 60
        }
      ]
    },
    {
      "cell_type": "code",
      "metadata": {
        "colab": {
          "base_uri": "https://localhost:8080/"
        },
        "id": "Xt0_oKIX6gSN",
        "outputId": "af72479e-32d6-4d57-efb9-a4a151ee2374"
      },
      "source": [
        "a is b"
      ],
      "execution_count": null,
      "outputs": [
        {
          "output_type": "execute_result",
          "data": {
            "text/plain": [
              "False"
            ]
          },
          "metadata": {
            "tags": []
          },
          "execution_count": 59
        }
      ]
    },
    {
      "cell_type": "markdown",
      "metadata": {
        "id": "S1aVNuzw65lb"
      },
      "source": [
        "\n",
        "\n",
        "*   is not\n",
        "\n",
        "\n",
        "Returns True if the operands are not identical\n",
        "\n"
      ]
    },
    {
      "cell_type": "code",
      "metadata": {
        "colab": {
          "base_uri": "https://localhost:8080/"
        },
        "id": "EYgf1p0y6-G7",
        "outputId": "3deb245c-88af-4d36-b12a-a8897a284c32"
      },
      "source": [
        "a is not b"
      ],
      "execution_count": null,
      "outputs": [
        {
          "output_type": "execute_result",
          "data": {
            "text/plain": [
              "True"
            ]
          },
          "metadata": {
            "tags": []
          },
          "execution_count": 61
        }
      ]
    },
    {
      "cell_type": "markdown",
      "metadata": {
        "id": "fSHYfQzv6S8F"
      },
      "source": [
        "**6. Membership Operators**\n",
        "\n",
        "used to test if a sequence or set is presented in an object.\n",
        "\n"
      ]
    },
    {
      "cell_type": "markdown",
      "metadata": {
        "id": "gPt5KNuX7NYs"
      },
      "source": [
        "\n",
        "\n",
        "*   in\n",
        "\n",
        "\n",
        "Returns True if value/variable is found in the sequence or set\n",
        "\n"
      ]
    },
    {
      "cell_type": "code",
      "metadata": {
        "id": "uZAOjEQC24PK"
      },
      "source": [
        "name = 'Leni'\n",
        "\n",
        "print('Anggraini' in name)"
      ],
      "execution_count": null,
      "outputs": []
    },
    {
      "cell_type": "markdown",
      "metadata": {
        "id": "xz-sEONa7drf"
      },
      "source": [
        "\n",
        "\n",
        "*  not in\n",
        "\n",
        "\n",
        "Returns True if value/variable is not found in the sequence or set\n",
        "\n"
      ]
    },
    {
      "cell_type": "code",
      "metadata": {
        "id": "2yaG0T7J7gp7"
      },
      "source": [
        "name = 'Leni Anggraini'\n",
        "\n",
        "print('Leni' not in name)"
      ],
      "execution_count": null,
      "outputs": []
    },
    {
      "cell_type": "markdown",
      "metadata": {
        "id": "eVKdUUJb8NH-"
      },
      "source": [
        "# D. Python Conditional Statements"
      ]
    },
    {
      "cell_type": "markdown",
      "metadata": {
        "id": "U8q98-GX9yY5"
      },
      "source": [
        "**1. IF**\n",
        "\n",
        "An if statement consists of a boolean expression followed by one or more statements, will execute when a condition is fulfilled.\n",
        "\n"
      ]
    },
    {
      "cell_type": "code",
      "metadata": {
        "id": "w78U38oi_DIW"
      },
      "source": [
        "score = 60\n",
        "\n",
        "if score >=79:\n",
        "    print('Congratulation, you have passed!')"
      ],
      "execution_count": null,
      "outputs": []
    },
    {
      "cell_type": "markdown",
      "metadata": {
        "id": "1l6evUbA-REk"
      },
      "source": [
        "**2. ELSE**\n",
        "\n",
        "An else statement executes when the boolean expression is FALSE.\n"
      ]
    },
    {
      "cell_type": "code",
      "metadata": {
        "colab": {
          "base_uri": "https://localhost:8080/"
        },
        "id": "9-s-ttdc_E84",
        "outputId": "7d0bc68c-12f8-4ac9-99f0-c776a39208a7"
      },
      "source": [
        "score = 106\n",
        "\n",
        "if score >=79:\n",
        "    print('Congratulation, you have passed the test!')\n",
        "else:\n",
        "    print('Sorry, you have failed the test.')"
      ],
      "execution_count": null,
      "outputs": [
        {
          "output_type": "stream",
          "text": [
            "Congratulation, you have passed the test!\n"
          ],
          "name": "stdout"
        }
      ]
    },
    {
      "cell_type": "markdown",
      "metadata": {
        "id": "wU1kbYG1-g6Z"
      },
      "source": [
        "**3. ELSE IF (ELIF)**\n",
        "\n",
        "An elif statement allows us to check multiple expressions for TRUE and execute the statement as soon as one of the conditions is fullfilled.\n"
      ]
    },
    {
      "cell_type": "code",
      "metadata": {
        "colab": {
          "base_uri": "https://localhost:8080/"
        },
        "id": "ZTGldd0E8QzU",
        "outputId": "0c2654e5-69ab-474b-be81-49235ed4aa19"
      },
      "source": [
        "score = 100\n",
        "\n",
        "if score >=20 and score <45:\n",
        "    print('Grade D')\n",
        "elif score >=45 and score <60:\n",
        "    print('Grade C')\n",
        "elif score >=60 and score <85:\n",
        "    print('Grade B')\n",
        "elif score >=85 and score <=100:\n",
        "    print('Grade A')\n",
        "else:\n",
        "    print('Grade E')"
      ],
      "execution_count": null,
      "outputs": [
        {
          "output_type": "stream",
          "text": [
            "Grade A\n"
          ],
          "name": "stdout"
        }
      ]
    },
    {
      "cell_type": "markdown",
      "metadata": {
        "id": "3x4fLc6L_iBz"
      },
      "source": [
        "**4. NESTED IF**\n",
        "\n",
        "A nested if statement is when there is another statement that will executed only if one condition is fullfilled. We can say that there are some ifs in an if. "
      ]
    },
    {
      "cell_type": "code",
      "metadata": {
        "colab": {
          "base_uri": "https://localhost:8080/"
        },
        "id": "Ep8D2SUe_OXF",
        "outputId": "7085e42c-1243-433e-c1e4-7200b376cbd6"
      },
      "source": [
        "administration = True\n",
        "passed_test = True\n",
        "intv_HR = False\n",
        "intv_VP =True\n",
        "MCU = True\n",
        "\n",
        "if administration:\n",
        "    print('Passed')\n",
        "    \n",
        "    if passed_test:\n",
        "        print('Passed')\n",
        "        \n",
        "        if intv_HR:\n",
        "            print('Passed')\n",
        "        \n",
        "            if intv_VP:\n",
        "                print('Passed')\n",
        "                \n",
        "                if MCU:\n",
        "                    print('Passed')  \n",
        "                    print('Congratulation, you have passed the admission!')\n",
        "                else:\n",
        "                    print('Sorry, you have failed')\n",
        "            else:\n",
        "                print('Sorry, you have failed')\n",
        "        else:\n",
        "            print('Sorry, you have failed')\n",
        "    else:\n",
        "        print('Sorry, you have failed')\n",
        "else:\n",
        "    print('Sorry, you have failed')\n",
        "    \n",
        "    "
      ],
      "execution_count": null,
      "outputs": [
        {
          "output_type": "stream",
          "text": [
            "Passed\n",
            "Passed\n",
            "Sorry, you have failed\n"
          ],
          "name": "stdout"
        }
      ]
    },
    {
      "cell_type": "markdown",
      "metadata": {
        "id": "C0eV0V0jEAxw"
      },
      "source": [
        "# E. Python Looping and Function"
      ]
    },
    {
      "cell_type": "markdown",
      "metadata": {
        "id": "zIbjtCHPJSAb"
      },
      "source": [
        "**1. FOR**\n",
        "\n",
        "\n",
        "used for repetitions (looping) with a certain range or with the number of looping desired.\n"
      ]
    },
    {
      "cell_type": "code",
      "metadata": {
        "colab": {
          "base_uri": "https://localhost:8080/"
        },
        "id": "MFkfZDstD-z8",
        "outputId": "4ea106bc-d4d1-4408-9474-0830baacfd79"
      },
      "source": [
        "for x in range(0, 5):\n",
        "    print('x = ' + str(x))"
      ],
      "execution_count": null,
      "outputs": [
        {
          "output_type": "stream",
          "name": "stdout",
          "text": [
            "x = 0\n",
            "x = 1\n",
            "x = 2\n",
            "x = 3\n",
            "x = 4\n"
          ]
        }
      ]
    },
    {
      "cell_type": "code",
      "metadata": {
        "colab": {
          "base_uri": "https://localhost:8080/"
        },
        "id": "5nl1Xs9wJt6h",
        "outputId": "16a62e75-73e8-4a81-a0c1-d996eb9f73c0"
      },
      "source": [
        "for x in range(0, 15):\n",
        "    print('Hello World')"
      ],
      "execution_count": null,
      "outputs": [
        {
          "output_type": "stream",
          "name": "stdout",
          "text": [
            "Hello World\n",
            "Hello World\n",
            "Hello World\n",
            "Hello World\n",
            "Hello World\n",
            "Hello World\n",
            "Hello World\n",
            "Hello World\n",
            "Hello World\n",
            "Hello World\n",
            "Hello World\n",
            "Hello World\n",
            "Hello World\n",
            "Hello World\n",
            "Hello World\n"
          ]
        }
      ]
    },
    {
      "cell_type": "code",
      "metadata": {
        "colab": {
          "base_uri": "https://localhost:8080/"
        },
        "id": "89o5uH1hJzsV",
        "outputId": "c4d30386-b73a-48b9-9ece-ab7c68e68117"
      },
      "source": [
        "things = ['table', 'chair', 'bed', 'desk lamp']\n",
        "\n",
        "for x in things:\n",
        "    print(x)"
      ],
      "execution_count": null,
      "outputs": [
        {
          "output_type": "stream",
          "name": "stdout",
          "text": [
            "table\n",
            "chair\n",
            "bed\n",
            "desk lamp\n"
          ]
        }
      ]
    },
    {
      "cell_type": "code",
      "metadata": {
        "colab": {
          "base_uri": "https://localhost:8080/"
        },
        "id": "KxYf-RArJ5Ch",
        "outputId": "6ae1a337-e95f-44bc-d194-c79923882949"
      },
      "source": [
        "fruits = ['apple', 'banana', 'orange', 'watermelon']\n",
        "\n",
        "for x in fruits:\n",
        "    print(x)\n",
        "    if x == \"orange\":\n",
        "        break"
      ],
      "execution_count": null,
      "outputs": [
        {
          "output_type": "stream",
          "name": "stdout",
          "text": [
            "apple\n",
            "banana\n",
            "orange\n"
          ]
        }
      ]
    },
    {
      "cell_type": "markdown",
      "metadata": {
        "id": "d72rfOvoKoCX"
      },
      "source": [
        "**2. WHILE**\n",
        "\n",
        "\n",
        "used for looping with an unknown number of repetitions, and will continue to loop until it is stopped. The while loop operation can be terminated under certain conditions.\n"
      ]
    },
    {
      "cell_type": "code",
      "metadata": {
        "colab": {
          "base_uri": "https://localhost:8080/"
        },
        "id": "Xqifkkm3KjCw",
        "outputId": "bac135af-a2e0-4985-ee43-083d877e00d1"
      },
      "source": [
        "x = 5\n",
        "\n",
        "while x < 10:\n",
        "    print(x)\n",
        "    x += 1"
      ],
      "execution_count": null,
      "outputs": [
        {
          "output_type": "stream",
          "name": "stdout",
          "text": [
            "5\n",
            "6\n",
            "7\n",
            "8\n",
            "9\n"
          ]
        }
      ]
    },
    {
      "cell_type": "code",
      "metadata": {
        "colab": {
          "base_uri": "https://localhost:8080/"
        },
        "id": "Gb6AnYzmKwiH",
        "outputId": "9dbcef29-011d-451d-887f-fade26663a68"
      },
      "source": [
        "x = 0\n",
        "while x < 50:\n",
        "    print(x)\n",
        "    x += 10"
      ],
      "execution_count": null,
      "outputs": [
        {
          "output_type": "stream",
          "name": "stdout",
          "text": [
            "0\n",
            "10\n",
            "20\n",
            "30\n",
            "40\n"
          ]
        }
      ]
    },
    {
      "cell_type": "code",
      "metadata": {
        "colab": {
          "base_uri": "https://localhost:8080/"
        },
        "id": "crs6cWD6K5Ae",
        "outputId": "3e2c1520-16a2-4ce9-ce74-50f2a013d8f6"
      },
      "source": [
        "x = 100\n",
        "while x > 50:\n",
        "    print(x)\n",
        "    x -= 10"
      ],
      "execution_count": null,
      "outputs": [
        {
          "output_type": "stream",
          "name": "stdout",
          "text": [
            "100\n",
            "90\n",
            "80\n",
            "70\n",
            "60\n"
          ]
        }
      ]
    },
    {
      "cell_type": "code",
      "metadata": {
        "colab": {
          "base_uri": "https://localhost:8080/"
        },
        "id": "PhJAZRpPK7th",
        "outputId": "889aaf28-f018-4901-94cb-63a9e926ccd2"
      },
      "source": [
        "number = 7\n",
        "\n",
        "while number > 0:\n",
        "    print(number)\n",
        "    number = number - 1"
      ],
      "execution_count": null,
      "outputs": [
        {
          "output_type": "stream",
          "name": "stdout",
          "text": [
            "7\n",
            "6\n",
            "5\n",
            "4\n",
            "3\n",
            "2\n",
            "1\n"
          ]
        }
      ]
    },
    {
      "cell_type": "markdown",
      "metadata": {
        "id": "FSwVqhblLqF6"
      },
      "source": [
        "**3. Function**\n",
        "\n",
        "\n",
        "A function is a block of code that only runs when called. We can send data or parameters into a function and then it can be returned as a result.\n",
        "\n"
      ]
    },
    {
      "cell_type": "markdown",
      "metadata": {
        "id": "nF7SpFb9MG7c"
      },
      "source": [
        "\n",
        "\n",
        "*   Local Scope\n",
        "\n",
        "    variables created within a function belong only to that function and can only be used in that function.\n",
        "\n",
        "\n"
      ]
    },
    {
      "cell_type": "code",
      "metadata": {
        "id": "xxN021zwMSPw"
      },
      "source": [
        "def myfirstfunction(name):\n",
        "    print(\"My name is \" + name)"
      ],
      "execution_count": null,
      "outputs": []
    },
    {
      "cell_type": "code",
      "metadata": {
        "colab": {
          "base_uri": "https://localhost:8080/"
        },
        "id": "__tGWjZ9MYSt",
        "outputId": "72a14223-fa99-42af-9b7c-4ee87870eff5"
      },
      "source": [
        "myfirstfunction(\"Steve\")"
      ],
      "execution_count": null,
      "outputs": [
        {
          "output_type": "stream",
          "name": "stdout",
          "text": [
            "My name is Steve\n"
          ]
        }
      ]
    },
    {
      "cell_type": "markdown",
      "metadata": {
        "id": "4rqP36MdMcSF"
      },
      "source": [
        "if you want to store and return the result, use `return`"
      ]
    },
    {
      "cell_type": "code",
      "metadata": {
        "id": "vdJYlSgWMrnx"
      },
      "source": [
        "def factorial(x):\n",
        "    if x == 0:\n",
        "        return 1\n",
        "    else:\n",
        "        return x * factorial(x-1)\n",
        "    \n",
        "x=int(input(\"Masukkan angka : \"))\n",
        "print(factorial(x))"
      ],
      "execution_count": null,
      "outputs": []
    },
    {
      "cell_type": "markdown",
      "metadata": {
        "id": "QDwz0coDNDCZ"
      },
      "source": [
        "\n",
        "\n",
        "*   Function Inside Function\n",
        "\n",
        "    a function within a function\n",
        "\n",
        "\n"
      ]
    },
    {
      "cell_type": "code",
      "metadata": {
        "id": "eQYqRn-pNNaD"
      },
      "source": [
        "def myfirstfunction(name):\n",
        "    print(\"My name is \" + name)\n",
        "    def myinnerfunction(age):\n",
        "        print(\"My age is \" + age)\n",
        "\n",
        "    myinnerfunction(\"22\")\n",
        "myfirstfunction(\"Anggita\")"
      ],
      "execution_count": null,
      "outputs": []
    },
    {
      "cell_type": "markdown",
      "metadata": {
        "id": "doK88M8FN_97"
      },
      "source": [
        "\n",
        "\n",
        "*   Global Scope\n",
        "\n",
        "    variables are created in the main body and be a global variable. It can be used for any scope\n",
        "\n",
        "\n"
      ]
    },
    {
      "cell_type": "code",
      "metadata": {
        "id": "2DL5_bBEO3tW"
      },
      "source": [
        "name = \"Anggita\"\n",
        "\n",
        "def myfirstfunction():\n",
        "    print(\"My name is \" + name)\n",
        "    \n",
        "myfirstfunction()"
      ],
      "execution_count": null,
      "outputs": []
    },
    {
      "cell_type": "markdown",
      "metadata": {
        "id": "7ioj3AYTLCHk"
      },
      "source": [
        "# F. Python Class, Object and Modules"
      ]
    },
    {
      "cell_type": "markdown",
      "metadata": {
        "id": "tNIBIlk5RE4q"
      },
      "source": [
        "**1. Class and Objects** \n",
        "\n",
        "\n",
        "Think of a class as an object constructor, or a \"blueprint\" for creating objects.\n",
        "\n",
        "To make a class, use keyword\n",
        " `class`\n"
      ]
    },
    {
      "cell_type": "code",
      "metadata": {
        "id": "pT2XNPAVN-I8"
      },
      "source": [
        "class MyFirstClass:\n",
        "    name = \"Leni\""
      ],
      "execution_count": null,
      "outputs": []
    },
    {
      "cell_type": "markdown",
      "metadata": {
        "id": "qtay3I1sRml4"
      },
      "source": [
        "Now we can use the class named `MyFirstClass` to create objects:"
      ]
    },
    {
      "cell_type": "code",
      "metadata": {
        "id": "UMsj5KOoK-M1"
      },
      "source": [
        "obj1 = MyFirstClass()\n",
        "print(obj1.name)"
      ],
      "execution_count": null,
      "outputs": []
    },
    {
      "cell_type": "markdown",
      "metadata": {
        "id": "rU_YWqDPSEwB"
      },
      "source": [
        "**The example above is the simplest Class and Object form.**\n",
        "\n",
        "In general, in the use of a Class, there is an initialization function (__init__) used. This function serves to assign a value to an object property or other operation that needs to be performed while the object is being created."
      ]
    },
    {
      "cell_type": "code",
      "metadata": {
        "id": "89YcEgeLRy4W"
      },
      "source": [
        "class Myself:\n",
        "    def __init__(self, name, age):\n",
        "        self.name = name\n",
        "        self.age = age\n",
        "        \n",
        "p1 = Myself('Leni', 22)\n",
        "\n",
        "print(p1.name)\n",
        "print(p1.age)"
      ],
      "execution_count": null,
      "outputs": []
    },
    {
      "cell_type": "markdown",
      "metadata": {
        "id": "3_k386w1S1qa"
      },
      "source": [
        "**2. Modules** \n",
        "\n",
        "\n",
        "A module is a file that contains a set of functions or codes that you want to include in your main code. "
      ]
    },
    {
      "cell_type": "markdown",
      "metadata": {
        "id": "hQ1d7akmVEoK"
      },
      "source": [
        "to import a module to your notebooks use this syntax:\n",
        "\n",
        "`import your_module`\n",
        "\n",
        "or\n",
        "\n",
        "`import your_module as mod`"
      ]
    },
    {
      "cell_type": "markdown",
      "metadata": {
        "id": "LTI1RamPTr5P"
      },
      "source": [
        "**Commonly used module:**"
      ]
    },
    {
      "cell_type": "markdown",
      "metadata": {
        "id": "QFEmAzc2Tw_h"
      },
      "source": [
        "\n",
        "\n",
        "*   Numpy\n",
        "\n"
      ]
    },
    {
      "cell_type": "code",
      "metadata": {
        "id": "X6d7mKm8SkM7"
      },
      "source": [
        "import numpy as np"
      ],
      "execution_count": null,
      "outputs": []
    },
    {
      "cell_type": "markdown",
      "metadata": {
        "id": "A_du3HQSVX-k"
      },
      "source": [
        "\n",
        "*   Matplotlib"
      ]
    },
    {
      "cell_type": "code",
      "metadata": {
        "id": "Js5Q9M84VSjm"
      },
      "source": [
        "import matplotlib.pyplot as plt"
      ],
      "execution_count": null,
      "outputs": []
    },
    {
      "cell_type": "markdown",
      "metadata": {
        "id": "Zlf3Tc4eVj99"
      },
      "source": [
        "\n",
        "*   Scipy"
      ]
    },
    {
      "cell_type": "code",
      "metadata": {
        "id": "F6WVY4wyVWyi"
      },
      "source": [
        "import scipy"
      ],
      "execution_count": null,
      "outputs": []
    },
    {
      "cell_type": "markdown",
      "metadata": {
        "id": "rl3JpUchVpR-"
      },
      "source": [
        "\n",
        "*   Scikitlearn"
      ]
    },
    {
      "cell_type": "code",
      "metadata": {
        "id": "GnFMvtNpVjBe"
      },
      "source": [
        "import sklearn"
      ],
      "execution_count": null,
      "outputs": []
    },
    {
      "cell_type": "markdown",
      "source": [
        "\n",
        "*   CSV"
      ],
      "metadata": {
        "id": "O45SmgV6GeWK"
      }
    },
    {
      "cell_type": "code",
      "source": [
        "import csv"
      ],
      "metadata": {
        "id": "1ouPdDYIGige"
      },
      "execution_count": null,
      "outputs": []
    },
    {
      "cell_type": "markdown",
      "metadata": {
        "id": "cVEduRxrVtnq"
      },
      "source": [
        "\n",
        "*   Pandas"
      ]
    },
    {
      "cell_type": "code",
      "metadata": {
        "id": "Yk5Mn5eoVrLX"
      },
      "source": [
        "import pandas as pd"
      ],
      "execution_count": null,
      "outputs": []
    },
    {
      "cell_type": "markdown",
      "source": [
        "# Example Using Module\n",
        "\n",
        "Use the CSV module to read file text"
      ],
      "metadata": {
        "id": "MCWjuO4IGAuL"
      }
    },
    {
      "cell_type": "code",
      "source": [
        "from google.colab import drive\n",
        "drive.mount('/content/drive')"
      ],
      "metadata": {
        "id": "N_yt_aerHklY"
      },
      "execution_count": null,
      "outputs": []
    },
    {
      "cell_type": "code",
      "source": [
        "import csv\n",
        "\n",
        "# tentukan lokasi file, nama file, dan inisialisasi csv\n",
        "f = open('penduduk_gender_head.csv', 'r')\n",
        "reader = csv.reader(f)\n",
        "\n",
        "# membaca baris per baris\n",
        "for row in reader:\n",
        "     print (row)\n",
        "\n",
        "# menutup file csv\n",
        "f.close()"
      ],
      "metadata": {
        "id": "fXuPrqFAG44w"
      },
      "execution_count": null,
      "outputs": []
    },
    {
      "cell_type": "markdown",
      "source": [
        "Use the Pandas module to read CSV file"
      ],
      "metadata": {
        "id": "KZI5sRj7ILhc"
      }
    },
    {
      "cell_type": "code",
      "source": [
        "import pandas as pd\n",
        "pd.set_option(\"display.max_columns\",50)\n",
        "\n",
        "table = pd.read_csv(\"https://storage.googleapis.com/dqlab-dataset/penduduk_gender_head.csv\")\n",
        "table.head()\n",
        "print(table)"
      ],
      "metadata": {
        "id": "Bv6vj2L5IULV"
      },
      "execution_count": null,
      "outputs": []
    },
    {
      "cell_type": "markdown",
      "metadata": {
        "id": "YBovK7YCdoys"
      },
      "source": [
        "# Thank you!\n",
        "\n",
        "\n",
        "\n"
      ]
    }
  ]
}